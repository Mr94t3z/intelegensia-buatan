{
  "nbformat": 4,
  "nbformat_minor": 0,
  "metadata": {
    "colab": {
      "name": "UTS-AI-20201-1 CODING-Muhamad Taopik.ipynb",
      "provenance": [],
      "authorship_tag": "ABX9TyMF32I4xFFq3Bq42xz1D7PD",
      "include_colab_link": true
    },
    "kernelspec": {
      "name": "python3",
      "display_name": "Python 3"
    },
    "language_info": {
      "name": "python"
    }
  },
  "cells": [
    {
      "cell_type": "markdown",
      "metadata": {
        "id": "view-in-github",
        "colab_type": "text"
      },
      "source": [
        "<a href=\"https://colab.research.google.com/github/Mr94t3z/intelegensia-buatan/blob/master/UTS_AI_20201_1_CODING_Muhamad_Taopik.ipynb\" target=\"_parent\"><img src=\"https://colab.research.google.com/assets/colab-badge.svg\" alt=\"Open In Colab\"/></a>"
      ]
    },
    {
      "cell_type": "code",
      "metadata": {
        "id": "xJdlYd4EiZ_E"
      },
      "source": [
        "# inisialisasi variable\n",
        "x = 4000\n",
        "y = 300\n",
        "\n",
        "permintaan_t = 1000\n",
        "permintaan_n = 5000\n",
        "\n",
        "persediaan_s = 100\n",
        "persediaan_b = 600\n",
        "persediaan   = persediaan_b - persediaan_s\n",
        "\n",
        "produksi_n = 7000\n",
        "produksi_t = 2000"
      ],
      "execution_count": 163,
      "outputs": []
    },
    {
      "cell_type": "code",
      "metadata": {
        "id": "fh00yYgMprKM"
      },
      "source": [
        "# def permintaan turun\n",
        "def permintaan_turun(x):\n",
        "  nilai = (permintaan_n-x)/x\n",
        "  return nilai"
      ],
      "execution_count": 164,
      "outputs": []
    },
    {
      "cell_type": "code",
      "metadata": {
        "id": "NcS6jq65kpkG"
      },
      "source": [
        "# def permintaan naik\n",
        "def permintaan_naik(x):\n",
        "  nilai = (x-permintaan_t)/x\n",
        "  return nilai"
      ],
      "execution_count": 165,
      "outputs": []
    },
    {
      "cell_type": "code",
      "metadata": {
        "colab": {
          "base_uri": "https://localhost:8080/"
        },
        "id": "zJsfZoL1ntqw",
        "outputId": "034c3782-6027-4c87-8625-ce2a0f952df6"
      },
      "source": [
        "# hasil permintaan\n",
        "print(\"Permintaan Turun = \",permintaan_turun(x))\n",
        "print(\"Permintaan Naik = \",permintaan_naik(x))"
      ],
      "execution_count": 166,
      "outputs": [
        {
          "output_type": "stream",
          "name": "stdout",
          "text": [
            "Permintaan Turun =  0.25\n",
            "Permintaan Naik =  0.75\n"
          ]
        }
      ]
    },
    {
      "cell_type": "code",
      "metadata": {
        "id": "pU3Z_Xx0mMJB"
      },
      "source": [
        "# def persediaan sedikit\n",
        "def persediaan_sedikit(y):\n",
        "  nilai = (persediaan_b-y)/persediaan\n",
        "  return nilai"
      ],
      "execution_count": 202,
      "outputs": []
    },
    {
      "cell_type": "code",
      "metadata": {
        "id": "FJT3cyXBmg4e"
      },
      "source": [
        "# def persediaan banyak\n",
        "def persediaan_banyak(y):\n",
        "  nilai = (y-persediaan_s)/persediaan\n",
        "  return nilai"
      ],
      "execution_count": 168,
      "outputs": []
    },
    {
      "cell_type": "code",
      "metadata": {
        "colab": {
          "base_uri": "https://localhost:8080/"
        },
        "id": "fck50rgSqf5R",
        "outputId": "93de204b-db4d-4878-846c-7310abd40f1e"
      },
      "source": [
        "# hasil persediaan\n",
        "print(\"Persediaan Sedikit = \",persediaan_sedikit(y))\n",
        "print(\"Persediaan Banyak = \",persediaan_banyak(y))"
      ],
      "execution_count": 173,
      "outputs": [
        {
          "output_type": "stream",
          "name": "stdout",
          "text": [
            "Persediaan Sedikit =  0.6\n",
            "Persediaan Banyak =  0.4\n"
          ]
        }
      ]
    },
    {
      "cell_type": "code",
      "metadata": {
        "colab": {
          "base_uri": "https://localhost:8080/"
        },
        "id": "c183D9_DFz7J",
        "outputId": "8ac9b158-3f6d-4cd7-d011-2e82db3552a2"
      },
      "source": [
        "# rule 1\n",
        "print(\"[Rule 1] IF permintaan TURUN AND persediaan BANYAK THEN produksi barang BERKURANG;\\n\")\n",
        "\n",
        "# Nilai α-predikat dan Z dari setiap aturan\n",
        "alpha_predikat1 = min(permintaan_turun(x), persediaan_banyak(y))\n",
        "print(\"Aplha Predikat 1 = \", alpha_predikat1)\n",
        "\n",
        "# Dari himpunan produksi barang BERKURANG\n",
        "z1 = produksi_n -  alpha_predikat1 * (produksi_n - produksi_t)\n",
        "print(\"\\nHasil z1 = \", int(z1))"
      ],
      "execution_count": 193,
      "outputs": [
        {
          "output_type": "stream",
          "name": "stdout",
          "text": [
            "[Rule 1] IF permintaan TURUN AND persediaan BANYAK THEN produksi barang BERKURANG;\n",
            "\n",
            "Aplha Predikat 1 =  0.25\n",
            "\n",
            "Hasil z1 =  5750\n"
          ]
        }
      ]
    },
    {
      "cell_type": "code",
      "metadata": {
        "colab": {
          "base_uri": "https://localhost:8080/"
        },
        "id": "B1j8H-5b0dxJ",
        "outputId": "fed47c02-2930-41cb-886d-4624a6dacaf7"
      },
      "source": [
        "# rule 2\n",
        "print(\"[Rule 2] IF permintaan TURUN AND persediaan SEDIKIT THEN produksi barang BERKURANG;\\n\")\n",
        "\n",
        "# Nilai α-predikat dan Z dari setiap aturan\n",
        "alpha_predikat2 = min(permintaan_turun(x), persediaan_sedikit(y))\n",
        "print(\"Aplha Predikat 2 = \", alpha_predikat2)\n",
        "\n",
        "# Dari himpunan produksi barang BERKURANG\n",
        "z2 = produksi_n -  alpha_predikat2 * (produksi_n - produksi_t)\n",
        "print(\"\\nHasil z2 = \", int(z2))"
      ],
      "execution_count": 194,
      "outputs": [
        {
          "output_type": "stream",
          "name": "stdout",
          "text": [
            "[Rule 2] IF permintaan TURUN AND persediaan SEDIKIT THEN produksi barang BERKURANG;\n",
            "\n",
            "Aplha Predikat 2 =  0.25\n",
            "\n",
            "Hasil z2 =  5750\n"
          ]
        }
      ]
    },
    {
      "cell_type": "code",
      "metadata": {
        "colab": {
          "base_uri": "https://localhost:8080/"
        },
        "id": "EehVqnBu3U75",
        "outputId": "3041d6f1-bff0-4f4b-dac7-0bb289b6bb09"
      },
      "source": [
        "# rule 3\n",
        "print(\"[Rule 3] IF permintaan NAIK AND persediaan BANYAK THEN produksi barang BERTAMBAH;\\n\")\n",
        "\n",
        "# Nilai α-predikat dan Z dari setiap aturan\n",
        "alpha_predikat3 = min(permintaan_naik(x), persediaan_banyak(y))\n",
        "print(\"Aplha Predikat 3 = \", alpha_predikat3)\n",
        "\n",
        "# Dari himpunan produksi barang BERTAMBAH\n",
        "z3 = alpha_predikat3 * (produksi_n - produksi_t) + produksi_t\n",
        "print(\"\\nHasil z3 = \", int(z3))"
      ],
      "execution_count": 197,
      "outputs": [
        {
          "output_type": "stream",
          "name": "stdout",
          "text": [
            "[Rule 3] IF permintaan NAIK AND persediaan BANYAK THEN produksi barang BERTAMBAH;\n",
            "\n",
            "Aplha Predikat 3 =  0.4\n",
            "\n",
            "Hasil z3 =  4000\n"
          ]
        }
      ]
    },
    {
      "cell_type": "code",
      "metadata": {
        "colab": {
          "base_uri": "https://localhost:8080/"
        },
        "id": "EiO2jKdM3YF-",
        "outputId": "192b9adb-b338-49dd-a1cd-6c1d40b90ebb"
      },
      "source": [
        "# rule 4\n",
        "print(\"[Rule 4] IF permintaan NAIK AND persediaan SEDIKIT THEN produksi barang BERTAMBAH;\\n\")\n",
        "\n",
        "# Nilai α-predikat dan Z dari setiap aturan\n",
        "alpha_predikat4 = min(permintaan_naik(x), persediaan_sedikit(y))\n",
        "print(\"Aplha Predikat 4 = \", alpha_predikat4)\n",
        "\n",
        "# Dari himpunan produksi barang BERTAMBAH\n",
        "z4 = alpha_predikat4 * (produksi_n - produksi_t) + produksi_t\n",
        "print(\"\\nHasil z4 = \", int(z4))"
      ],
      "execution_count": 199,
      "outputs": [
        {
          "output_type": "stream",
          "name": "stdout",
          "text": [
            "[Rule 4] IF permintaan NAIK AND persediaan SEDIKIT THEN produksi barang BERTAMBAH;\n",
            "\n",
            "Aplha Predikat 4 =  0.6\n",
            "\n",
            "Hasil z4 =  5000\n"
          ]
        }
      ]
    },
    {
      "cell_type": "code",
      "metadata": {
        "colab": {
          "base_uri": "https://localhost:8080/"
        },
        "id": "mU2eL_hO8NS6",
        "outputId": "c89d40ae-84a0-4b53-a883-ddf6aba3d89e"
      },
      "source": [
        "# Menghitung z akhir dengan merata-rata semua z berbobot:\n",
        "up    = ((alpha_predikat1 * z1) + (alpha_predikat2 * z2) + (alpha_predikat3 * z3) + (alpha_predikat4 * z4))\n",
        "down  = (alpha_predikat1 + alpha_predikat2 + alpha_predikat3 + alpha_predikat4)\n",
        "z     =  up / down\n",
        "print(\"Jadi, jumlah makanan jenis ABC yang harus diproduksi sebanyak\", int(z))"
      ],
      "execution_count": 201,
      "outputs": [
        {
          "output_type": "stream",
          "name": "stdout",
          "text": [
            "Jadi, jumlah makanan jenis ABC yang harus diproduksi sebanyak 4983\n"
          ]
        }
      ]
    }
  ]
}